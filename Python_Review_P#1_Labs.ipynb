{
 "cells": [
  {
   "cell_type": "markdown",
   "id": "b97dc926",
   "metadata": {},
   "source": [
    "## Lab1-Variables\n",
    "- Define a variable that has a value of your favourite season.\n",
    "- Define “x“ variable has an integer value and variable “y” has a float value.\n",
    "- Assign One Value to Multiple Variables.\n",
    "- Assign Many Values to Multiple Variables."
   ]
  },
  {
   "cell_type": "code",
   "execution_count": 1,
   "id": "8d2579eb",
   "metadata": {},
   "outputs": [
    {
     "name": "stdout",
     "output_type": "stream",
     "text": [
      "Tariq favorite season is : Winter\n",
      "x: 7\n",
      "y: 7.5\n",
      "a: 100 b: 100 c: 100\n",
      "var_1: 2 var_1: 4 var_1: 6\n"
     ]
    }
   ],
   "source": [
    "# My favourite season\n",
    "favorite_season = \"Winter\"\n",
    "\n",
    "# Define \"x\" variable has an integer value and variable \"y\" has a float value\n",
    "x = 7\n",
    "y = 7.5\n",
    "\n",
    "# Assign One Value to Multiple Variables\n",
    "a = b = c = 100\n",
    "\n",
    "# Assign Many Values to Multiple Variables\n",
    "var_1, var_2, var_3 = 2, 4, 6\n",
    "\n",
    "# Print the variables\n",
    "print(\"Tariq favorite season is :\", favorite_season)\n",
    "print(\"x:\", x)\n",
    "print(\"y:\", y)\n",
    "print(\"a:\", a, \"b:\", b, \"c:\", c)\n",
    "print(\"var_1:\", var_1, \"var_1:\", var_2, \"var_1:\", var_3)\n"
   ]
  },
  {
   "cell_type": "markdown",
   "id": "e6d060b4",
   "metadata": {},
   "source": [
    "## Lab2-Conditions\n",
    "\n",
    "### You want to recommend a movie to a friend based on the rating and popularity. To accomplish this do the following: \n",
    "\n",
    "- Create a variable for the movie (choose any movie you like).\n",
    "- Create a variable of type int to hold the rating of the movie out of 5. Give this movie rate = 3\n",
    "- Create a popularity score of type float, let it be 72.65\n",
    "- Using an if statement:\n",
    " - Check if the movie rating is 4 or greater and the popularity is greater than 80, print \"Highly recommended\".\n",
    " - Else if the movie rating is 3 or greater and the popularity is greater than 70, print \"I recommended it, It is good\".\n",
    " - Else if the movie rating is 2 or less and the popularity is greater than 60, print \"You should check it out!\".\n",
    " - Else the movie rating is 2 or less and the popularity is less than 50, print \"Don't watch it, It is a waste of time\"."
   ]
  },
  {
   "cell_type": "code",
   "execution_count": 2,
   "id": "b41b0f4b",
   "metadata": {},
   "outputs": [
    {
     "name": "stdout",
     "output_type": "stream",
     "text": [
      "I recommended it, It is good\n"
     ]
    }
   ],
   "source": [
    "# Create variables\n",
    "movie = \"Interstellar\"\n",
    "rating = 3\n",
    "popularity = 72.65\n",
    "\n",
    "# conditions\n",
    "if rating >= 4 and popularity > 80:\n",
    "    print(\"Highly recommended\")\n",
    "elif rating >= 3 and popularity > 70:\n",
    "    print(\"I recommended it, It is good\")\n",
    "elif rating <= 2 and popularity > 60:\n",
    "    print(\"You should check it out!\")\n",
    "elif rating <= 2 and popularity < 50:\n",
    "    print(\"Don't watch it, It is a waste of time\")\n"
   ]
  },
  {
   "cell_type": "markdown",
   "id": "5cd7e322",
   "metadata": {},
   "source": [
    "## Movie Recommendation Logic Analysis\n",
    "\n",
    "For the case where rating = 2.5 and popularity = 58, the previous code won't print anything because these values don't meet any of the conditions specified in the if-elif-else statements. The conditions require higher ratings and popularity scores for recommendations. To cover this case, I added a message in the else statement to indicate that there is no specific recommendation for these values, also I changed some logical conditions."
   ]
  },
  {
   "cell_type": "code",
   "execution_count": 3,
   "id": "6b6ccc28",
   "metadata": {},
   "outputs": [
    {
     "name": "stdout",
     "output_type": "stream",
     "text": [
      "No specific recommendation for these values\n"
     ]
    }
   ],
   "source": [
    "# Create variables\n",
    "movie = \"Interstellar\"\n",
    "rating = 2.5\n",
    "popularity = 58\n",
    "\n",
    "# Check conditions\n",
    "if rating >= 4 and popularity > 80:\n",
    "    print(\"Highly recommended\")\n",
    "elif rating >= 3 and popularity > 70:\n",
    "    print(\"I recommended it, It is good\")\n",
    "elif rating >= 2 and popularity > 60:\n",
    "    print(\"You should check it out!\")\n",
    "elif rating <= 2 and popularity <= 60:\n",
    "    print(\"Don't watch it, It is a waste of time\")\n",
    "else:\n",
    "    print(\"No specific recommendation for these values\")\n"
   ]
  },
  {
   "cell_type": "code",
   "execution_count": null,
   "id": "8de57c23",
   "metadata": {},
   "outputs": [],
   "source": []
  }
 ],
 "metadata": {
  "kernelspec": {
   "display_name": "Python 3 (ipykernel)",
   "language": "python",
   "name": "python3"
  },
  "language_info": {
   "codemirror_mode": {
    "name": "ipython",
    "version": 3
   },
   "file_extension": ".py",
   "mimetype": "text/x-python",
   "name": "python",
   "nbconvert_exporter": "python",
   "pygments_lexer": "ipython3",
   "version": "3.10.5"
  }
 },
 "nbformat": 4,
 "nbformat_minor": 5
}
